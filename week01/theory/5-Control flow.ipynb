{
 "cells": [
  {
   "cell_type": "markdown",
   "id": "bcfb1a44-abdb-44b6-a59f-90684ce8322a",
   "metadata": {},
   "source": [
    "# Conditionality and Repetition"
   ]
  },
  {
   "cell_type": "markdown",
   "id": "5fed5f05-ce90-4074-b918-01f32d208d8f",
   "metadata": {},
   "source": [
    "You will quickly found out that in your programming experience, you will spend quite some time writing conditional statements or *looping* through items. Therefore, it's very important that you understand what these statements do and how to properly use them.\n"
   ]
  },
  {
   "cell_type": "markdown",
   "id": "f965f4f2-32da-4ce1-bbfc-ff3d16ffd521",
   "metadata": {},
   "source": [
    "## Conditionality"
   ]
  },
  {
   "cell_type": "markdown",
   "id": "4c907a86-3c74-47e5-be66-c1d9167c4926",
   "metadata": {},
   "source": [
    "The `if` statement is based on a **boolean** operation: if the first condition is executed it means that *the condition is* `True`, otherwise, the program moves on to the next statements *until either a `True` statement or the end of the flow* (else, if included). The flow chart bolow illustrates the conditional process with one if, two elif and one else statement.\n",
    "\n",
    "![alt text](images/Python-if-elif-else-statement.png)"
   ]
  },
  {
   "cell_type": "markdown",
   "id": "b698e201-d46f-49aa-b6e2-6558e29eccc7",
   "metadata": {},
   "source": [
    "Let's see some examples."
   ]
  },
  {
   "cell_type": "code",
   "execution_count": 5,
   "id": "f630a56c-0024-4660-ab8b-2251255d48ab",
   "metadata": {},
   "outputs": [
    {
     "name": "stdout",
     "output_type": "stream",
     "text": [
      "True\n",
      "False\n"
     ]
    }
   ],
   "source": [
    "# Simple if statement\n",
    "if True == 1:\n",
    "    print('True')\n",
    "    \n",
    "if False == 0:\n",
    "    print('False')"
   ]
  },
  {
   "cell_type": "code",
   "execution_count": 15,
   "id": "5927935b-294c-4a83-be9c-b9d21b4b455e",
   "metadata": {},
   "outputs": [],
   "source": [
    "# Now let's execute this cell...do you know why the cell is not printing anything?\n",
    "if ():\n",
    "    print('This condition is not True')"
   ]
  },
  {
   "cell_type": "code",
   "execution_count": 14,
   "id": "767f3f48-e362-4482-9c0c-1dcf5978b8b9",
   "metadata": {},
   "outputs": [
    {
     "name": "stdout",
     "output_type": "stream",
     "text": [
      "This condition is True\n"
     ]
    }
   ],
   "source": [
    "# But this cell does return something\n",
    "if not ():\n",
    "    print('This condition is True')"
   ]
  },
  {
   "cell_type": "markdown",
   "id": "75062093-7425-48d6-9ff8-3cc6fcd20911",
   "metadata": {},
   "source": [
    "As you might have guessed, Python casts *boolean* values in different ways. \n",
    "Note that in Python 3, `True` and `False` are keywords and cannot be reassigned to another value, e.g., False = 5 will raise an error.\n",
    "\n",
    "Here are values that are built-in objects considered `False`:\n",
    "``` python\n",
    "- constants defined to be false: None and False.\n",
    "- zero of any numeric type: 0, 0.0, 0j, Decimal(0), Fraction(0, 1)\n",
    "- empty sequences and collections: '', (), [], {}, set(), range(0)\n",
    "```\n",
    "\n",
    "Read more about Truth Value Testing [here](https://docs.python.org/3/library/stdtypes.html)."
   ]
  },
  {
   "cell_type": "code",
   "execution_count": 22,
   "id": "ffbe241f-cd2c-435b-8de0-bf3da99fda63",
   "metadata": {},
   "outputs": [
    {
     "name": "stdout",
     "output_type": "stream",
     "text": [
      "You failed the exam!\n"
     ]
    }
   ],
   "source": [
    "# Now let's see more complex statements\n",
    "# Change the values of exam_score and assignment to see how the outcome changes\n",
    "exam_score = 30\n",
    "assignment = 'C'\n",
    "\n",
    "if exam_score >= 80:\n",
    "    if assignment == 'A':\n",
    "        print('You passed the exam with the highest grade.')\n",
    "    elif assignment =='B':\n",
    "        print('You passed the exam with the second highest grade')\n",
    "    else:\n",
    "        print('You passed the exam with the third highest grade')\n",
    "elif 40 <= exam_score < 80:\n",
    "    if assignment == 'A' or assignment == 'B':\n",
    "        print('You did well in the assignment but not in the exam, you have a second attempt in 30 days')\n",
    "    else:\n",
    "        print('You barely passed the exam')\n",
    "else:\n",
    "    print('You failed the exam!')"
   ]
  },
  {
   "cell_type": "markdown",
   "id": "50c3026a-f4ae-43b5-b68d-d9cf70bf6a2f",
   "metadata": {},
   "source": [
    "**Exercise**: Change the previous code so that if a student receives an exam score between 35 and 40 (not included) and assignment grade A, the code returns \"You almost passed\". "
   ]
  },
  {
   "cell_type": "code",
   "execution_count": null,
   "id": "45858adf-3d2e-4adb-affa-1ded20c53efb",
   "metadata": {},
   "outputs": [],
   "source": [
    "# Your code here"
   ]
  },
  {
   "cell_type": "markdown",
   "id": "fcb86283-0d14-4289-8150-461afbae25f2",
   "metadata": {},
   "source": [
    "## Repetition"
   ]
  },
  {
   "cell_type": "markdown",
   "id": "bd73c3d2-1455-4f45-b3ec-439840710381",
   "metadata": {},
   "source": [
    "The `for` loop is used to iterate through items, which could be stored in a tuple, list, dictionary and so on (we will get familiar with all of these data structures in week 2, so if you don't know these terms don't worry).\n",
    "These kind of loops are helpful in a multitude of operations, for example when encountering a nested loop, where list comprehensions would make the code less transparent and harder to read. Remember that, particularly when working in a team, code readability is very important."
   ]
  },
  {
   "cell_type": "code",
   "execution_count": 29,
   "id": "8ea05cc0-c4b9-4564-b1cb-c908b5456158",
   "metadata": {},
   "outputs": [
    {
     "name": "stdout",
     "output_type": "stream",
     "text": [
      "Anna is not Mary\n",
      "Mary\n",
      "Thomas is not Mary\n"
     ]
    }
   ],
   "source": [
    "for student, grade in zip(['Anna', 'Mary', 'Thomas'], [7, 12, 10]):\n",
    "    if student.startswith('M') and grade == 12:\n",
    "        print(student)\n",
    "    else:\n",
    "        print(student, 'is not Mary')"
   ]
  },
  {
   "cell_type": "code",
   "execution_count": 43,
   "id": "188b369a-6e23-4baa-a188-b5203ac029f5",
   "metadata": {},
   "outputs": [
    {
     "name": "stdout",
     "output_type": "stream",
     "text": [
      "Row [0.88725562 0.85647689 0.57118201]\n",
      "Element 0.8872556239869023\n",
      "Element 0.8564768872787752\n",
      "Element 0.571182007901086\n",
      "\n",
      "Row [0.09174574 0.48741038 0.50058191]\n",
      "Element 0.09174573803486852\n",
      "Element 0.48741038271527615\n",
      "Element 0.5005819130783463\n",
      "\n"
     ]
    }
   ],
   "source": [
    "# In this example we will use a library called Numpy\n",
    "import numpy as np\n",
    "\n",
    "# we initialize a matrix with random samples from a uniform distribution [0, 1) of shape 2x3 (rowsxcolumns)\n",
    "matrix = np.random.rand(2,3)\n",
    "\n",
    "# uncomment the following lines to investigate the data\n",
    "# print(matrix.shape)\n",
    "# print(matrix)\n",
    "\n",
    "# loop through the elements of the matrix\n",
    "for row in matrix:\n",
    "    print('Row', row)\n",
    "    # loop through each elements in the row\n",
    "    for elem in row:\n",
    "        print('Element', elem)\n",
    "    print()"
   ]
  },
  {
   "cell_type": "markdown",
   "id": "9204950e-7907-46c6-9425-d4d69d1a0b12",
   "metadata": {},
   "source": [
    "The `while` loop is used to iterate through elements for as long as a certain condition is valid."
   ]
  },
  {
   "cell_type": "code",
   "execution_count": null,
   "id": "db5a8549-3326-42cf-81ac-30ddca05d190",
   "metadata": {},
   "outputs": [],
   "source": []
  },
  {
   "cell_type": "markdown",
   "id": "9a3d4edf-39a4-4c53-834b-677682ade757",
   "metadata": {},
   "source": [
    "References:\n",
    "- If elif else image: https://www.pythontutorial.net/python-basics/python-if/"
   ]
  }
 ],
 "metadata": {
  "kernelspec": {
   "display_name": "Python 3 (ipykernel)",
   "language": "python",
   "name": "python3"
  },
  "language_info": {
   "codemirror_mode": {
    "name": "ipython",
    "version": 3
   },
   "file_extension": ".py",
   "mimetype": "text/x-python",
   "name": "python",
   "nbconvert_exporter": "python",
   "pygments_lexer": "ipython3",
   "version": "3.8.10"
  }
 },
 "nbformat": 4,
 "nbformat_minor": 5
}
