{
 "cells": [
  {
   "cell_type": "markdown",
   "id": "bcfb1a44-abdb-44b6-a59f-90684ce8322a",
   "metadata": {},
   "source": [
    "# Conditionality and Repetition"
   ]
  },
  {
   "cell_type": "markdown",
   "id": "5fed5f05-ce90-4074-b918-01f32d208d8f",
   "metadata": {},
   "source": [
    "You will quickly found out that in your programming experience, you will spend quite some time writing conditional statements or *looping* through items. Therefore, it's very important that you understand what these statements do and how to properly use them.\n"
   ]
  },
  {
   "cell_type": "markdown",
   "id": "f965f4f2-32da-4ce1-bbfc-ff3d16ffd521",
   "metadata": {},
   "source": [
    "## Conditionality"
   ]
  },
  {
   "cell_type": "markdown",
   "id": "4c907a86-3c74-47e5-be66-c1d9167c4926",
   "metadata": {},
   "source": [
    "The `if` statement is based on a **boolean** operation: if the first condition is executed it means that *the condition is* `True`, otherwise, the program moves on to the next statements *until either a `True` statement or the end of the flow* (else, if included). The flow chart bolow illustrates the conditional process with one if, two elif and one else statement.\n",
    "\n",
    "![alt text](images/Python-if-elif-else-statement.png)"
   ]
  },
  {
   "cell_type": "markdown",
   "id": "b698e201-d46f-49aa-b6e2-6558e29eccc7",
   "metadata": {},
   "source": [
    "Let's see some examples."
   ]
  },
  {
   "cell_type": "code",
   "execution_count": 5,
   "id": "f630a56c-0024-4660-ab8b-2251255d48ab",
   "metadata": {},
   "outputs": [
    {
     "name": "stdout",
     "output_type": "stream",
     "text": [
      "True\n",
      "False\n"
     ]
    }
   ],
   "source": [
    "# Simple if statement\n",
    "if True == 1:\n",
    "    print('True')\n",
    "    \n",
    "if False == 0:\n",
    "    print('False')"
   ]
  },
  {
   "cell_type": "code",
   "execution_count": 15,
   "id": "5927935b-294c-4a83-be9c-b9d21b4b455e",
   "metadata": {},
   "outputs": [],
   "source": [
    "# Now let's execute this cell...do you know why the cell is not printing anything?\n",
    "if ():\n",
    "    print('This condition is not True')"
   ]
  },
  {
   "cell_type": "code",
   "execution_count": 14,
   "id": "767f3f48-e362-4482-9c0c-1dcf5978b8b9",
   "metadata": {},
   "outputs": [
    {
     "name": "stdout",
     "output_type": "stream",
     "text": [
      "This condition is True\n"
     ]
    }
   ],
   "source": [
    "# But this cell does return something\n",
    "if not ():\n",
    "    print('This condition is True')"
   ]
  },
  {
   "cell_type": "markdown",
   "id": "75062093-7425-48d6-9ff8-3cc6fcd20911",
   "metadata": {},
   "source": [
    "As you might have guessed, Python casts *boolean* values in different ways. \n",
    "Note that in Python 3, `True` and `False` are keywords and cannot be reassigned to another value, e.g., False = 5 will raise an error.\n",
    "\n",
    "Here are values that are built-in objects considered `False`:\n",
    "``` python\n",
    "- constants defined to be false: None and False.\n",
    "- zero of any numeric type: 0, 0.0, 0j, Decimal(0), Fraction(0, 1)\n",
    "- empty sequences and collections: '', (), [], {}, set(), range(0)\n",
    "```\n",
    "\n",
    "Read more about Truth Value Testing [here](https://docs.python.org/3/library/stdtypes.html)."
   ]
  },
  {
   "cell_type": "code",
   "execution_count": 22,
   "id": "ffbe241f-cd2c-435b-8de0-bf3da99fda63",
   "metadata": {},
   "outputs": [
    {
     "name": "stdout",
     "output_type": "stream",
     "text": [
      "You failed the exam!\n"
     ]
    }
   ],
   "source": [
    "# Now let's see more complex statements\n",
    "# Change the values of exam_score and assignment to see how the outcome changes\n",
    "exam_score = 30\n",
    "assignment = 'C'\n",
    "\n",
    "if exam_score >= 80:\n",
    "    if assignment == 'A':\n",
    "        print('You passed the exam with the highest grade.')\n",
    "    elif assignment =='B':\n",
    "        print('You passed the exam with the second highest grade')\n",
    "    else:\n",
    "        print('You passed the exam with the third highest grade')\n",
    "elif 40 <= exam_score < 80:\n",
    "    if assignment == 'A' or assignment == 'B':\n",
    "        print('You did well in the assignment but not in the exam, you have a second attempt in 30 days')\n",
    "    else:\n",
    "        print('You barely passed the exam')\n",
    "else:\n",
    "    print('You failed the exam!')"
   ]
  },
  {
   "cell_type": "markdown",
   "id": "50c3026a-f4ae-43b5-b68d-d9cf70bf6a2f",
   "metadata": {},
   "source": [
    "**Exercise**: Change the previous code so that if a student receives an exam score between 35 and 40 (not included) and assignment grade A, the code returns \"You almost passed\". "
   ]
  },
  {
   "cell_type": "code",
   "execution_count": null,
   "id": "45858adf-3d2e-4adb-affa-1ded20c53efb",
   "metadata": {},
   "outputs": [],
   "source": [
    "# Your code here"
   ]
  },
  {
   "cell_type": "markdown",
   "id": "fcb86283-0d14-4289-8150-461afbae25f2",
   "metadata": {},
   "source": [
    "## Repetition"
   ]
  },
  {
   "cell_type": "code",
   "execution_count": null,
   "id": "ce298af0-283d-439c-88cc-856d5dcec922",
   "metadata": {},
   "outputs": [],
   "source": []
  },
  {
   "cell_type": "code",
   "execution_count": null,
   "id": "8ea05cc0-c4b9-4564-b1cb-c908b5456158",
   "metadata": {},
   "outputs": [],
   "source": []
  },
  {
   "cell_type": "code",
   "execution_count": null,
   "id": "188b369a-6e23-4baa-a188-b5203ac029f5",
   "metadata": {},
   "outputs": [],
   "source": []
  },
  {
   "cell_type": "code",
   "execution_count": null,
   "id": "e97cabf3-74ce-49c3-9233-1e8c998dfafc",
   "metadata": {},
   "outputs": [],
   "source": [
    "recursion"
   ]
  },
  {
   "cell_type": "code",
   "execution_count": null,
   "id": "db5a8549-3326-42cf-81ac-30ddca05d190",
   "metadata": {},
   "outputs": [],
   "source": []
  },
  {
   "cell_type": "markdown",
   "id": "9a3d4edf-39a4-4c53-834b-677682ade757",
   "metadata": {},
   "source": [
    "References:\n",
    "- If elif else image: https://www.pythontutorial.net/python-basics/python-if/"
   ]
  }
 ],
 "metadata": {
  "kernelspec": {
   "display_name": "Python 3 (ipykernel)",
   "language": "python",
   "name": "python3"
  },
  "language_info": {
   "codemirror_mode": {
    "name": "ipython",
    "version": 3
   },
   "file_extension": ".py",
   "mimetype": "text/x-python",
   "name": "python",
   "nbconvert_exporter": "python",
   "pygments_lexer": "ipython3",
   "version": "3.8.10"
  }
 },
 "nbformat": 4,
 "nbformat_minor": 5
}
