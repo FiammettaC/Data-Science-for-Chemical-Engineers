{
 "cells": [
  {
   "cell_type": "markdown",
   "id": "3fde4216-5be3-418e-93d3-5b0ab6efd536",
   "metadata": {},
   "source": [
    "## Hello, World!"
   ]
  },
  {
   "cell_type": "markdown",
   "id": "7688b9ae-77cc-4a9f-9684-1e25950be8af",
   "metadata": {},
   "source": [
    "Traditionally, Hello World programs are used to illustrate how coding works, as well as verifying that the system is operating correctly.\n",
    "Greeting the user is considered the first step in learning to code, and it even has its own Wikipedia page!\n",
    "So, let's do that."
   ]
  },
  {
   "cell_type": "code",
   "execution_count": 5,
   "id": "d83589d7-923a-427b-b9d4-9d8f21901218",
   "metadata": {},
   "outputs": [
    {
     "name": "stdout",
     "output_type": "stream",
     "text": [
      "Hello, World!\n"
     ]
    }
   ],
   "source": [
    "print(\"Hello, World!\")"
   ]
  },
  {
   "cell_type": "markdown",
   "id": "445b7814-ac70-4938-90d3-f21a16beb2fe",
   "metadata": {},
   "source": [
    "## Syntax, Semantics and Pragmatics of a programming language"
   ]
  },
  {
   "cell_type": "markdown",
   "id": "037e30c6-d994-4b78-a276-52ada867cb34",
   "metadata": {},
   "source": [
    "Before starting to code, there are some notions that we need to understand.\n",
    "\n",
    "First of all, Python is regarded as a *programming language*. \n",
    "But what does that mean? \n",
    "How is a programming language different from a natural language?\n",
    "\n",
    "Let's start from what they have in common: **language**. A language is a system of communication, a means for individuals belonging to the same group to express themselves and understand each other.\n",
    "A language, in order to be successfull in enabling communication and understanding, has to be based on conventions, rules that are agreed upon by the members of the group. \n",
    "\n",
    "The three main categories we will compare here are: **Syntax**, **Semantics** and **Pragmatics**.\n",
    "- **Syntax**: grammatical structure of sentences. It defines the rules of what is consedered to be grammatical in a language. For example, in a natural language such as English, syntax detemines the order of the components of a sentence (Subject-Verb-Object). Programming languages (e.g., Python) have a highly non-flexible notion of grammaticality, meaning that a structure it is either correctly implemented or it rases an error An example of a very common syntactic error raised in Python is wrong indentation.\n",
    "- **Semantics**: meaning of a sentence. Sometimes, the program we are writing is syntactically correct, but it raises an error for other reasons. So while the computer may understand the commands, carrying them out leads to errors. An example of this is division by zero, combining incompatible types of variables (Python is a *weakly-typed* language) or calling an undefined function.\n",
    "- **Pragmatics**: defines how context contributes to the meaning of a sentence. Humans are able to infer many information from the context, enabling them to infer the meaning from a set of share assumptions, even though not all details are explicit. Computer programs are unable to do the same, and can only do what instructed. But this is not necessarily a bad attribute, since it means that there is no ambiguity: a piece of code can have one and only one interpretation, while natural language can often be ambiguous. If a program encounters potentially ambiguous statements, preference rules are employed to select a single interpretation. An example of this is given by mathematical operations."
   ]
  },
  {
   "cell_type": "markdown",
   "id": "43ec185d-c7be-406a-bfa5-200dda7aa65b",
   "metadata": {},
   "source": [
    "#### Syntax"
   ]
  },
  {
   "cell_type": "code",
   "execution_count": 8,
   "id": "db5c80ca-0e1e-4181-9a2d-52bf3ad3da9f",
   "metadata": {},
   "outputs": [
    {
     "name": "stdout",
     "output_type": "stream",
     "text": [
      "metre\n",
      "gram\n",
      "second\n"
     ]
    }
   ],
   "source": [
    "# Example of a correct statement\n",
    "for unit in ['metre', 'gram', 'second']:\n",
    "    print(unit)"
   ]
  },
  {
   "cell_type": "code",
   "execution_count": 7,
   "id": "b218b066-dd30-4131-b20a-55b19c36aec3",
   "metadata": {},
   "outputs": [
    {
     "ename": "IndentationError",
     "evalue": "expected an indented block (Temp/ipykernel_560/1821972305.py, line 3)",
     "output_type": "error",
     "traceback": [
      "\u001b[1;36m  File \u001b[1;32m\"C:\\Users\\fiacac\\AppData\\Local\\Temp/ipykernel_560/1821972305.py\"\u001b[1;36m, line \u001b[1;32m3\u001b[0m\n\u001b[1;33m    print(unit)\u001b[0m\n\u001b[1;37m    ^\u001b[0m\n\u001b[1;31mIndentationError\u001b[0m\u001b[1;31m:\u001b[0m expected an indented block\n"
     ]
    }
   ],
   "source": [
    "# Example of error\n",
    "for unit in ['metre', 'gram', 'second']:\n",
    "print(unit)"
   ]
  },
  {
   "cell_type": "markdown",
   "id": "99a4eca3-c013-4624-a8b9-41ba0af0cef5",
   "metadata": {},
   "source": [
    "#### Semantics"
   ]
  },
  {
   "cell_type": "code",
   "execution_count": 10,
   "id": "3ac98ba7-8614-40f3-b5be-5d43088ee993",
   "metadata": {},
   "outputs": [
    {
     "ename": "ZeroDivisionError",
     "evalue": "division by zero",
     "output_type": "error",
     "traceback": [
      "\u001b[1;31m---------------------------------------------------------------------------\u001b[0m",
      "\u001b[1;31mZeroDivisionError\u001b[0m                         Traceback (most recent call last)",
      "\u001b[1;32m~\\AppData\\Local\\Temp/ipykernel_560/2436706066.py\u001b[0m in \u001b[0;36m<module>\u001b[1;34m\u001b[0m\n\u001b[0;32m      2\u001b[0m \u001b[0mx\u001b[0m \u001b[1;33m=\u001b[0m \u001b[1;36m5\u001b[0m\u001b[1;33m\u001b[0m\u001b[1;33m\u001b[0m\u001b[0m\n\u001b[0;32m      3\u001b[0m \u001b[0my\u001b[0m \u001b[1;33m=\u001b[0m \u001b[1;36m0\u001b[0m\u001b[1;33m\u001b[0m\u001b[1;33m\u001b[0m\u001b[0m\n\u001b[1;32m----> 4\u001b[1;33m \u001b[0mx\u001b[0m \u001b[1;33m/\u001b[0m \u001b[0my\u001b[0m\u001b[1;33m\u001b[0m\u001b[1;33m\u001b[0m\u001b[0m\n\u001b[0m",
      "\u001b[1;31mZeroDivisionError\u001b[0m: division by zero"
     ]
    }
   ],
   "source": [
    "# Division by zero\n",
    "x = 5\n",
    "y = 0\n",
    "x / y"
   ]
  },
  {
   "cell_type": "markdown",
   "id": "99666ffe-eaf3-43d6-93af-6ab8c6648701",
   "metadata": {},
   "source": [
    "Although the syntax of the above cell is correct, the code returns an error due to the fact that division by zero in not possible."
   ]
  },
  {
   "cell_type": "code",
   "execution_count": 11,
   "id": "3352a202-b657-4639-9388-a4a57f40378a",
   "metadata": {},
   "outputs": [
    {
     "ename": "TypeError",
     "evalue": "unsupported operand type(s) for +: 'int' and 'str'",
     "output_type": "error",
     "traceback": [
      "\u001b[1;31m---------------------------------------------------------------------------\u001b[0m",
      "\u001b[1;31mTypeError\u001b[0m                                 Traceback (most recent call last)",
      "\u001b[1;32m~\\AppData\\Local\\Temp/ipykernel_560/425070858.py\u001b[0m in \u001b[0;36m<module>\u001b[1;34m\u001b[0m\n\u001b[0;32m      2\u001b[0m \u001b[0mnumber\u001b[0m \u001b[1;33m=\u001b[0m \u001b[1;36m1\u001b[0m\u001b[1;33m\u001b[0m\u001b[1;33m\u001b[0m\u001b[0m\n\u001b[0;32m      3\u001b[0m \u001b[0mletter\u001b[0m \u001b[1;33m=\u001b[0m \u001b[1;34m'a'\u001b[0m\u001b[1;33m\u001b[0m\u001b[1;33m\u001b[0m\u001b[0m\n\u001b[1;32m----> 4\u001b[1;33m \u001b[0mnumber\u001b[0m \u001b[1;33m+\u001b[0m \u001b[0mletter\u001b[0m\u001b[1;33m\u001b[0m\u001b[1;33m\u001b[0m\u001b[0m\n\u001b[0m",
      "\u001b[1;31mTypeError\u001b[0m: unsupported operand type(s) for +: 'int' and 'str'"
     ]
    }
   ],
   "source": [
    "# Incompatible type\n",
    "number = 1\n",
    "letter = 'a'\n",
    "number + letter"
   ]
  },
  {
   "cell_type": "markdown",
   "id": "9cf9c5c2-3c53-410a-a891-7302e7ff8353",
   "metadata": {},
   "source": [
    "Here the error indicates that you cannot add `number` and `letter` because the first is cast as an integer (`int`) and the second as a string (`str`). \n",
    "\n",
    "We will learn more about strings in week 2."
   ]
  },
  {
   "cell_type": "code",
   "execution_count": 13,
   "id": "80eae59f-d05f-417e-98a7-e53267f98439",
   "metadata": {},
   "outputs": [
    {
     "ename": "AttributeError",
     "evalue": "'list' object has no attribute 'my_function'",
     "output_type": "error",
     "traceback": [
      "\u001b[1;31m---------------------------------------------------------------------------\u001b[0m",
      "\u001b[1;31mAttributeError\u001b[0m                            Traceback (most recent call last)",
      "\u001b[1;32m~\\AppData\\Local\\Temp/ipykernel_560/1423563681.py\u001b[0m in \u001b[0;36m<module>\u001b[1;34m\u001b[0m\n\u001b[0;32m      1\u001b[0m \u001b[1;31m# Calling undefined function\u001b[0m\u001b[1;33m\u001b[0m\u001b[1;33m\u001b[0m\u001b[1;33m\u001b[0m\u001b[0m\n\u001b[1;32m----> 2\u001b[1;33m \u001b[1;33m[\u001b[0m\u001b[1;34m'metre'\u001b[0m\u001b[1;33m,\u001b[0m \u001b[1;34m'gram'\u001b[0m\u001b[1;33m,\u001b[0m \u001b[1;34m'second'\u001b[0m\u001b[1;33m]\u001b[0m\u001b[1;33m.\u001b[0m\u001b[0mmy_function\u001b[0m\u001b[1;33m(\u001b[0m\u001b[1;33m)\u001b[0m\u001b[1;33m\u001b[0m\u001b[1;33m\u001b[0m\u001b[0m\n\u001b[0m",
      "\u001b[1;31mAttributeError\u001b[0m: 'list' object has no attribute 'my_function'"
     ]
    }
   ],
   "source": [
    "# Calling undefined function\n",
    "['metre', 'gram', 'second'].my_function()"
   ]
  },
  {
   "cell_type": "markdown",
   "id": "6639a9a1-1a8e-4e65-bf9f-44c6613f2b0c",
   "metadata": {},
   "source": [
    "The error above indicates that `my_function()` is not defined."
   ]
  },
  {
   "cell_type": "markdown",
   "id": "41215200-f013-424d-addf-cec9dd9363c0",
   "metadata": {},
   "source": [
    "#### Pragmatics"
   ]
  },
  {
   "cell_type": "markdown",
   "id": "ea79ae7e-1235-4ba0-b306-d8d1236e27aa",
   "metadata": {},
   "source": [
    "Before running the following cell, can you guess what operation will be done first?"
   ]
  },
  {
   "cell_type": "code",
   "execution_count": 16,
   "id": "7c7acdbd-0260-4513-adde-a192223475c4",
   "metadata": {},
   "outputs": [
    {
     "data": {
      "text/plain": [
       "69"
      ]
     },
     "execution_count": 16,
     "metadata": {},
     "output_type": "execute_result"
    }
   ],
   "source": [
    "# Mathematical operations are handled by preference rules \n",
    "6 + 7 * 9"
   ]
  },
  {
   "cell_type": "markdown",
   "id": "8b005d7b-ec0d-4822-88d8-6e6d39e35df0",
   "metadata": {},
   "source": [
    "If you meant to first add and then multiply, you can use parenthesis!"
   ]
  },
  {
   "cell_type": "markdown",
   "id": "00c54a4b-6273-4550-854d-f9f9336873a8",
   "metadata": {},
   "source": [
    "(6 + 7) * 9"
   ]
  },
  {
   "cell_type": "markdown",
   "id": "0071a226-6f0b-4829-a773-ce19ee17fad9",
   "metadata": {},
   "source": [
    "## \"A Foolish Consistency is the Hobgoblin of Little Minds\" \n",
    "-Ralph Waldo Emerson, Self-Reliance"
   ]
  },
  {
   "cell_type": "markdown",
   "id": "a615a9e5-2e92-4b57-80a4-623f5fe702f6",
   "metadata": {},
   "source": [
    "Programmers are very opinionated people, which means that they will probably have a strong preference on how to define variables, function and classes, and so on.\n",
    "\n",
    "[Here](https://www.python.org/dev/peps/pep-0008/) you can find the Holy Grail of Python formatting style."
   ]
  },
  {
   "cell_type": "markdown",
   "id": "12701bd5-0856-4fd8-8a77-bbdaff8305c7",
   "metadata": {},
   "source": [
    "If you need a laugh after all this hard work, here is a video from the TV series *Silicon Valley* regarding [Tabs vs Spaces](https://www.youtube.com/watch?v=cowtgmZuai0).\n",
    "\n",
    "Although we really like Richard, the PEP-8 guidelines say that \n",
    "<center> \"Spaces are the preferred indentation method.\" </center>"
   ]
  }
 ],
 "metadata": {
  "kernelspec": {
   "display_name": "Python 3 (ipykernel)",
   "language": "python",
   "name": "python3"
  },
  "language_info": {
   "codemirror_mode": {
    "name": "ipython",
    "version": 3
   },
   "file_extension": ".py",
   "mimetype": "text/x-python",
   "name": "python",
   "nbconvert_exporter": "python",
   "pygments_lexer": "ipython3",
   "version": "3.8.10"
  }
 },
 "nbformat": 4,
 "nbformat_minor": 5
}
