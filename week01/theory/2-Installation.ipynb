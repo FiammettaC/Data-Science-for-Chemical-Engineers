{
 "cells": [
  {
   "cell_type": "markdown",
   "id": "d7586219-7b32-4a5a-89ca-112d3a372582",
   "metadata": {},
   "source": [
    "# Anaconda"
   ]
  },
  {
   "cell_type": "markdown",
   "id": "423dd176-9204-470a-a803-db5dd3e5452a",
   "metadata": {},
   "source": [
    "In this course, you will learn the basics (and a bit more) of Python.\n",
    "\n",
    "We will use **Anaconda**, as it is the world's most popular Python distribution platform, with millions of downloads worldwide."
   ]
  },
  {
   "cell_type": "markdown",
   "id": "76a32940-39b2-480f-997f-efadfee77af2",
   "metadata": {},
   "source": [
    "![alt text](images/Anaconda.png)"
   ]
  },
  {
   "cell_type": "markdown",
   "id": "7a85c564-7d16-4d78-94dc-c012c4d089f9",
   "metadata": {},
   "source": [
    "The course is based on [*Jupyter Notebooks*](https://jupyter-notebook-beginner-guide.readthedocs.io/en/latest/what_is_jupyter.html), containing both theory and practical exercises. Jupyter is based on IPython, a wrapper for Python code that allows for more interactive programming.\n",
    "It also allows the use of markdown cells, like this one you are reading right now. Markdown cells can contain plain text, such as theory of exercise explanations, which are essential for the success of the course. Moreover, they allow us to highlight important words or sentences, we can use **bold**, *italics*, <span style=\"color:blue\">*colors*</span>, add links, insert images and more.\n",
    "\n",
    "Check out the [Markdown cheat sheet here](https://www.markdownguide.org/cheat-sheet/)."
   ]
  },
  {
   "cell_type": "markdown",
   "id": "626e32e0-3a75-48ae-bf45-e2446e50ea88",
   "metadata": {},
   "source": [
    "## Download Anaconda\n",
    "You can find the documentation on how to download Anaconda [here](https://docs.anaconda.com/anaconda/install/index.html)."
   ]
  },
  {
   "cell_type": "markdown",
   "id": "8824fa50-0290-49c5-adc1-823a0df3e3cd",
   "metadata": {},
   "source": [
    "## Open Jupyter Lab\n",
    "![alt text](images/Prompt.png)\n",
    "\n",
    "**Windows**: To open Jupyter Lab, we will use the *Anaconda Prompt*, which you will get once you installed Anaconda. The Anaconda Prompt is a command line interpreter used to enter and execute commands to the operating system. The commands are generally used to automate tasks via scripts, perform advanced administrative functions and more. It does not have a graphic user interface (GUI), but instead the interpreter accepts lines of text as the commands.\n",
    "To open the Anaconda Prompt, you can use the search bar in your computer. \n",
    "\n",
    "**MacOS or Linux**: To open Jupyter Lab, we will use the terminal."
   ]
  },
  {
   "cell_type": "markdown",
   "id": "05482eaa-efaa-4cc6-956e-76466869c59e",
   "metadata": {},
   "source": [
    "Once installed Anaconda, we can open Jupyter Lab, a web-based interface, through the Anaconda Prompt (terminal on Linux or macOS). \n",
    "Open the Anaconda Prompt (terminal on Linux or macOS) and type `jupyter lab`. \n",
    "This will launch a new browser window (or a new tab), showing the Jupyter Lab interface.\n",
    "Now you are ready to create a new Notebook - .ipynb file."
   ]
  },
  {
   "cell_type": "markdown",
   "id": "602f4443-fb80-4094-a39a-5b99b2109288",
   "metadata": {},
   "source": [
    "If you prefer to launch Jupyter Lab from a more user-friendly interface, you can do that by opening the *Anaconda Navigator* and pressing *Launch* under the Jupyter Lab application."
   ]
  },
  {
   "cell_type": "markdown",
   "id": "19b27f08-a4ba-48b4-b155-89e9411d7149",
   "metadata": {},
   "source": [
    "## Additional programs available\n",
    "Throught Anaconda Navigator, you have also access to Spyder IDE, and Jupyter Notebooks (tree). More information [here](https://docs.anaconda.com/anaconda/user-guide/getting-started/)."
   ]
  }
 ],
 "metadata": {
  "kernelspec": {
   "display_name": "Python 3 (ipykernel)",
   "language": "python",
   "name": "python3"
  },
  "language_info": {
   "codemirror_mode": {
    "name": "ipython",
    "version": 3
   },
   "file_extension": ".py",
   "mimetype": "text/x-python",
   "name": "python",
   "nbconvert_exporter": "python",
   "pygments_lexer": "ipython3",
   "version": "3.8.10"
  }
 },
 "nbformat": 4,
 "nbformat_minor": 5
}
